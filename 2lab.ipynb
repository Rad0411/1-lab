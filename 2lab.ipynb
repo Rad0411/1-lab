{
  "nbformat": 4,
  "nbformat_minor": 0,
  "metadata": {
    "colab": {
      "provenance": []
    },
    "kernelspec": {
      "name": "python3",
      "display_name": "Python 3"
    },
    "language_info": {
      "name": "python"
    }
  },
  "cells": [
    {
      "cell_type": "code",
      "source": [
        "pip install h3pandas --pre"
      ],
      "metadata": {
        "colab": {
          "base_uri": "https://localhost:8080/"
        },
        "id": "UTWJuotW56H1",
        "outputId": "5d294621-255a-48fc-a702-96ad1552fd26"
      },
      "execution_count": 2,
      "outputs": [
        {
          "output_type": "stream",
          "name": "stdout",
          "text": [
            "Requirement already satisfied: h3pandas in /usr/local/lib/python3.10/dist-packages (0.2.6)\n",
            "Requirement already satisfied: geopandas in /usr/local/lib/python3.10/dist-packages (from h3pandas) (0.13.2)\n",
            "Requirement already satisfied: numpy in /usr/local/lib/python3.10/dist-packages (from h3pandas) (1.23.5)\n",
            "Requirement already satisfied: pandas in /usr/local/lib/python3.10/dist-packages (from h3pandas) (1.5.3)\n",
            "Requirement already satisfied: shapely in /usr/local/lib/python3.10/dist-packages (from h3pandas) (2.0.2)\n",
            "Requirement already satisfied: h3 in /usr/local/lib/python3.10/dist-packages (from h3pandas) (4.0.0b2)\n",
            "Requirement already satisfied: typing-extensions in /usr/local/lib/python3.10/dist-packages (from h3pandas) (4.5.0)\n",
            "Requirement already satisfied: fiona>=1.8.19 in /usr/local/lib/python3.10/dist-packages (from geopandas->h3pandas) (1.9.5)\n",
            "Requirement already satisfied: packaging in /usr/local/lib/python3.10/dist-packages (from geopandas->h3pandas) (23.2)\n",
            "Requirement already satisfied: pyproj>=3.0.1 in /usr/local/lib/python3.10/dist-packages (from geopandas->h3pandas) (3.6.1)\n",
            "Requirement already satisfied: python-dateutil>=2.8.1 in /usr/local/lib/python3.10/dist-packages (from pandas->h3pandas) (2.8.2)\n",
            "Requirement already satisfied: pytz>=2020.1 in /usr/local/lib/python3.10/dist-packages (from pandas->h3pandas) (2023.3.post1)\n",
            "Requirement already satisfied: attrs>=19.2.0 in /usr/local/lib/python3.10/dist-packages (from fiona>=1.8.19->geopandas->h3pandas) (23.1.0)\n",
            "Requirement already satisfied: certifi in /usr/local/lib/python3.10/dist-packages (from fiona>=1.8.19->geopandas->h3pandas) (2023.11.17)\n",
            "Requirement already satisfied: click~=8.0 in /usr/local/lib/python3.10/dist-packages (from fiona>=1.8.19->geopandas->h3pandas) (8.1.7)\n",
            "Requirement already satisfied: click-plugins>=1.0 in /usr/local/lib/python3.10/dist-packages (from fiona>=1.8.19->geopandas->h3pandas) (1.1.1)\n",
            "Requirement already satisfied: cligj>=0.5 in /usr/local/lib/python3.10/dist-packages (from fiona>=1.8.19->geopandas->h3pandas) (0.7.2)\n",
            "Requirement already satisfied: six in /usr/local/lib/python3.10/dist-packages (from fiona>=1.8.19->geopandas->h3pandas) (1.16.0)\n",
            "Requirement already satisfied: setuptools in /usr/local/lib/python3.10/dist-packages (from fiona>=1.8.19->geopandas->h3pandas) (67.7.2)\n"
          ]
        }
      ]
    },
    {
      "cell_type": "code",
      "source": [
        "pip install osmnx"
      ],
      "metadata": {
        "colab": {
          "base_uri": "https://localhost:8080/"
        },
        "id": "DTZ4GXKO58vg",
        "outputId": "384c7103-578c-42eb-8d27-2b289e855c09"
      },
      "execution_count": 3,
      "outputs": [
        {
          "output_type": "stream",
          "name": "stdout",
          "text": [
            "Collecting osmnx\n",
            "  Downloading osmnx-1.8.0-py3-none-any.whl (102 kB)\n",
            "\u001b[?25l     \u001b[90m━━━━━━━━━━━━━━━━━━━━━━━━━━━━━━━━━━━━━━━━\u001b[0m \u001b[32m0.0/102.9 kB\u001b[0m \u001b[31m?\u001b[0m eta \u001b[36m-:--:--\u001b[0m\r\u001b[2K     \u001b[91m━━━━━━━━━━━━━━━━━━━━━━━━━━━━━━━━━━━━━━━\u001b[0m\u001b[91m╸\u001b[0m \u001b[32m102.4/102.9 kB\u001b[0m \u001b[31m2.8 MB/s\u001b[0m eta \u001b[36m0:00:01\u001b[0m\r\u001b[2K     \u001b[90m━━━━━━━━━━━━━━━━━━━━━━━━━━━━━━━━━━━━━━━━\u001b[0m \u001b[32m102.9/102.9 kB\u001b[0m \u001b[31m2.1 MB/s\u001b[0m eta \u001b[36m0:00:00\u001b[0m\n",
            "\u001b[?25hRequirement already satisfied: geopandas>=0.12 in /usr/local/lib/python3.10/dist-packages (from osmnx) (0.13.2)\n",
            "Requirement already satisfied: networkx>=2.5 in /usr/local/lib/python3.10/dist-packages (from osmnx) (3.2.1)\n",
            "Requirement already satisfied: numpy>=1.20 in /usr/local/lib/python3.10/dist-packages (from osmnx) (1.23.5)\n",
            "Requirement already satisfied: pandas>=1.1 in /usr/local/lib/python3.10/dist-packages (from osmnx) (1.5.3)\n",
            "Requirement already satisfied: requests>=2.27 in /usr/local/lib/python3.10/dist-packages (from osmnx) (2.31.0)\n",
            "Requirement already satisfied: shapely>=2.0 in /usr/local/lib/python3.10/dist-packages (from osmnx) (2.0.2)\n",
            "Requirement already satisfied: fiona>=1.8.19 in /usr/local/lib/python3.10/dist-packages (from geopandas>=0.12->osmnx) (1.9.5)\n",
            "Requirement already satisfied: packaging in /usr/local/lib/python3.10/dist-packages (from geopandas>=0.12->osmnx) (23.2)\n",
            "Requirement already satisfied: pyproj>=3.0.1 in /usr/local/lib/python3.10/dist-packages (from geopandas>=0.12->osmnx) (3.6.1)\n",
            "Requirement already satisfied: python-dateutil>=2.8.1 in /usr/local/lib/python3.10/dist-packages (from pandas>=1.1->osmnx) (2.8.2)\n",
            "Requirement already satisfied: pytz>=2020.1 in /usr/local/lib/python3.10/dist-packages (from pandas>=1.1->osmnx) (2023.3.post1)\n",
            "Requirement already satisfied: charset-normalizer<4,>=2 in /usr/local/lib/python3.10/dist-packages (from requests>=2.27->osmnx) (3.3.2)\n",
            "Requirement already satisfied: idna<4,>=2.5 in /usr/local/lib/python3.10/dist-packages (from requests>=2.27->osmnx) (3.6)\n",
            "Requirement already satisfied: urllib3<3,>=1.21.1 in /usr/local/lib/python3.10/dist-packages (from requests>=2.27->osmnx) (2.0.7)\n",
            "Requirement already satisfied: certifi>=2017.4.17 in /usr/local/lib/python3.10/dist-packages (from requests>=2.27->osmnx) (2023.11.17)\n",
            "Requirement already satisfied: attrs>=19.2.0 in /usr/local/lib/python3.10/dist-packages (from fiona>=1.8.19->geopandas>=0.12->osmnx) (23.1.0)\n",
            "Requirement already satisfied: click~=8.0 in /usr/local/lib/python3.10/dist-packages (from fiona>=1.8.19->geopandas>=0.12->osmnx) (8.1.7)\n",
            "Requirement already satisfied: click-plugins>=1.0 in /usr/local/lib/python3.10/dist-packages (from fiona>=1.8.19->geopandas>=0.12->osmnx) (1.1.1)\n",
            "Requirement already satisfied: cligj>=0.5 in /usr/local/lib/python3.10/dist-packages (from fiona>=1.8.19->geopandas>=0.12->osmnx) (0.7.2)\n",
            "Requirement already satisfied: six in /usr/local/lib/python3.10/dist-packages (from fiona>=1.8.19->geopandas>=0.12->osmnx) (1.16.0)\n",
            "Requirement already satisfied: setuptools in /usr/local/lib/python3.10/dist-packages (from fiona>=1.8.19->geopandas>=0.12->osmnx) (67.7.2)\n",
            "Installing collected packages: osmnx\n",
            "Successfully installed osmnx-1.8.0\n"
          ]
        }
      ]
    },
    {
      "cell_type": "code",
      "source": [
        "from geopandas.geodataframe import GeoDataFrame\n",
        "import geopandas as gpd\n",
        "import h3\n",
        "import osmnx as ox\n",
        "import folium"
      ],
      "metadata": {
        "id": "pKjcAVcX6AFt"
      },
      "execution_count": 4,
      "outputs": []
    },
    {
      "cell_type": "code",
      "source": [
        "gdf = ox.geocode_to_gdf('Первоуральск')\n",
        "#perv_hex = gdf.h3.polyfill_resample(9)\n",
        "gdf2 = ox.geocode_to_gdf('Нижний тагил')\n",
        "#nt_hex = gdf2.h3.polyfill_resample(9)\n",
        "\n",
        "maps = []\n",
        "m = folium.Map([gdf.centroid.y, gdf.centroid.x], tiles='cartodbpositron')\n",
        "folium.GeoJson(gdf).add_to(m)\n",
        "#folium.GeoJson(perv_hex).add_to(m)\n",
        "folium.FitBounds([[gdf.bounds.miny[0], gdf.bounds.minx[0]],[gdf.bounds.maxy[0], gdf.bounds.maxx[0]]]).add_to(m)\n",
        "m2 = folium.Map([gdf2.centroid.y, gdf2.centroid.x], tiles='cartodbpositron')\n",
        "folium.GeoJson(gdf2).add_to(m2)\n",
        "#folium.GeoJson(nt_hex).add_to(m2)\n",
        "folium.FitBounds([[gdf2.bounds.miny[0], gdf2.bounds.minx[0]],[gdf2.bounds.maxy[0], gdf2.bounds.maxx[0]]]).add_to(m2)\n",
        "maps.append(m)\n",
        "maps.append(m2)\n",
        "for map in maps:\n",
        "  display(map)"
      ],
      "metadata": {
        "colab": {
          "base_uri": "https://localhost:8080/",
          "height": 1000
        },
        "id": "BXIp6PF66FiD",
        "outputId": "4d2d365e-34a5-4d97-f387-952a86aa3724"
      },
      "execution_count": 10,
      "outputs": [
        {
          "output_type": "stream",
          "name": "stderr",
          "text": [
            "<ipython-input-10-33d1fed279af>:7: UserWarning: Geometry is in a geographic CRS. Results from 'centroid' are likely incorrect. Use 'GeoSeries.to_crs()' to re-project geometries to a projected CRS before this operation.\n",
            "\n",
            "  m = folium.Map([gdf.centroid.y, gdf.centroid.x], tiles='cartodbpositron')\n",
            "<ipython-input-10-33d1fed279af>:11: UserWarning: Geometry is in a geographic CRS. Results from 'centroid' are likely incorrect. Use 'GeoSeries.to_crs()' to re-project geometries to a projected CRS before this operation.\n",
            "\n",
            "  m2 = folium.Map([gdf2.centroid.y, gdf2.centroid.x], tiles='cartodbpositron')\n"
          ]
        },
        {
          "output_type": "display_data",
          "data": {
            "text/plain": [
              "<folium.folium.Map at 0x7f79a301f730>"
            ],
            "text/html": [
              "<div style=\"width:100%;\"><div style=\"position:relative;width:100%;height:0;padding-bottom:60%;\"><span style=\"color:#565656\">Make this Notebook Trusted to load map: File -> Trust Notebook</span><iframe srcdoc=\"&lt;!DOCTYPE html&gt;\n",
              "&lt;html&gt;\n",
              "&lt;head&gt;\n",
              "    \n",
              "    &lt;meta http-equiv=&quot;content-type&quot; content=&quot;text/html; charset=UTF-8&quot; /&gt;\n",
              "    \n",
              "        &lt;script&gt;\n",
              "            L_NO_TOUCH = false;\n",
              "            L_DISABLE_3D = false;\n",
              "        &lt;/script&gt;\n",
              "    \n",
              "    &lt;style&gt;html, body {width: 100%;height: 100%;margin: 0;padding: 0;}&lt;/style&gt;\n",
              "    &lt;style&gt;#map {position:absolute;top:0;bottom:0;right:0;left:0;}&lt;/style&gt;\n",
              "    &lt;script src=&quot;https://cdn.jsdelivr.net/npm/leaflet@1.9.3/dist/leaflet.js&quot;&gt;&lt;/script&gt;\n",
              "    &lt;script src=&quot;https://code.jquery.com/jquery-1.12.4.min.js&quot;&gt;&lt;/script&gt;\n",
              "    &lt;script src=&quot;https://cdn.jsdelivr.net/npm/bootstrap@5.2.2/dist/js/bootstrap.bundle.min.js&quot;&gt;&lt;/script&gt;\n",
              "    &lt;script src=&quot;https://cdnjs.cloudflare.com/ajax/libs/Leaflet.awesome-markers/2.0.2/leaflet.awesome-markers.js&quot;&gt;&lt;/script&gt;\n",
              "    &lt;link rel=&quot;stylesheet&quot; href=&quot;https://cdn.jsdelivr.net/npm/leaflet@1.9.3/dist/leaflet.css&quot;/&gt;\n",
              "    &lt;link rel=&quot;stylesheet&quot; href=&quot;https://cdn.jsdelivr.net/npm/bootstrap@5.2.2/dist/css/bootstrap.min.css&quot;/&gt;\n",
              "    &lt;link rel=&quot;stylesheet&quot; href=&quot;https://netdna.bootstrapcdn.com/bootstrap/3.0.0/css/bootstrap.min.css&quot;/&gt;\n",
              "    &lt;link rel=&quot;stylesheet&quot; href=&quot;https://cdn.jsdelivr.net/npm/@fortawesome/fontawesome-free@6.2.0/css/all.min.css&quot;/&gt;\n",
              "    &lt;link rel=&quot;stylesheet&quot; href=&quot;https://cdnjs.cloudflare.com/ajax/libs/Leaflet.awesome-markers/2.0.2/leaflet.awesome-markers.css&quot;/&gt;\n",
              "    &lt;link rel=&quot;stylesheet&quot; href=&quot;https://cdn.jsdelivr.net/gh/python-visualization/folium/folium/templates/leaflet.awesome.rotate.min.css&quot;/&gt;\n",
              "    \n",
              "            &lt;meta name=&quot;viewport&quot; content=&quot;width=device-width,\n",
              "                initial-scale=1.0, maximum-scale=1.0, user-scalable=no&quot; /&gt;\n",
              "            &lt;style&gt;\n",
              "                #map_7347f90d1216c31783b7b7f4d16563f1 {\n",
              "                    position: relative;\n",
              "                    width: 100.0%;\n",
              "                    height: 100.0%;\n",
              "                    left: 0.0%;\n",
              "                    top: 0.0%;\n",
              "                }\n",
              "                .leaflet-container { font-size: 1rem; }\n",
              "            &lt;/style&gt;\n",
              "        \n",
              "&lt;/head&gt;\n",
              "&lt;body&gt;\n",
              "    \n",
              "    \n",
              "            &lt;div class=&quot;folium-map&quot; id=&quot;map_7347f90d1216c31783b7b7f4d16563f1&quot; &gt;&lt;/div&gt;\n",
              "        \n",
              "&lt;/body&gt;\n",
              "&lt;script&gt;\n",
              "    \n",
              "    \n",
              "            var map_7347f90d1216c31783b7b7f4d16563f1 = L.map(\n",
              "                &quot;map_7347f90d1216c31783b7b7f4d16563f1&quot;,\n",
              "                {\n",
              "                    center: [56.90237519476416, 59.951653881918794],\n",
              "                    crs: L.CRS.EPSG3857,\n",
              "                    zoom: 10,\n",
              "                    zoomControl: true,\n",
              "                    preferCanvas: false,\n",
              "                }\n",
              "            );\n",
              "\n",
              "            \n",
              "\n",
              "        \n",
              "    \n",
              "            var tile_layer_3856c47977370662d7197e5561687b4c = L.tileLayer(\n",
              "                &quot;https://cartodb-basemaps-{s}.global.ssl.fastly.net/light_all/{z}/{x}/{y}.png&quot;,\n",
              "                {&quot;attribution&quot;: &quot;\\u0026copy; \\u003ca target=\\&quot;_blank\\&quot; href=\\&quot;http://www.openstreetmap.org/copyright\\&quot;\\u003eOpenStreetMap\\u003c/a\\u003e contributors \\u0026copy; \\u003ca target=\\&quot;_blank\\&quot; href=\\&quot;http://cartodb.com/attributions\\&quot;\\u003eCartoDB\\u003c/a\\u003e, CartoDB \\u003ca target=\\&quot;_blank\\&quot; href =\\&quot;http://cartodb.com/attributions\\&quot;\\u003eattributions\\u003c/a\\u003e&quot;, &quot;detectRetina&quot;: false, &quot;maxNativeZoom&quot;: 18, &quot;maxZoom&quot;: 18, &quot;minZoom&quot;: 0, &quot;noWrap&quot;: false, &quot;opacity&quot;: 1, &quot;subdomains&quot;: &quot;abc&quot;, &quot;tms&quot;: false}\n",
              "            ).addTo(map_7347f90d1216c31783b7b7f4d16563f1);\n",
              "        \n",
              "    \n",
              "\n",
              "        function geo_json_a89acd0211e2c161fa43d6b02cfbe352_onEachFeature(feature, layer) {\n",
              "            layer.on({\n",
              "            });\n",
              "        };\n",
              "        var geo_json_a89acd0211e2c161fa43d6b02cfbe352 = L.geoJson(null, {\n",
              "                onEachFeature: geo_json_a89acd0211e2c161fa43d6b02cfbe352_onEachFeature,\n",
              "            \n",
              "        });\n",
              "\n",
              "        function geo_json_a89acd0211e2c161fa43d6b02cfbe352_add (data) {\n",
              "            geo_json_a89acd0211e2c161fa43d6b02cfbe352\n",
              "                .addData(data)\n",
              "                .addTo(map_7347f90d1216c31783b7b7f4d16563f1);\n",
              "        }\n",
              "            geo_json_a89acd0211e2c161fa43d6b02cfbe352_add({&quot;bbox&quot;: [59.8495823, 56.8438123, 60.0686287, 56.9753687], &quot;features&quot;: [{&quot;bbox&quot;: [59.8495823, 56.8438123, 60.0686287, 56.9753687], &quot;geometry&quot;: {&quot;coordinates&quot;: [[[59.8495823, 56.8892827], [59.8669555, 56.8883044], [59.8635966, 56.886075], [59.8558223, 56.8783133], [59.8617554, 56.874737], [59.8664546, 56.8720106], [59.8627853, 56.8673548], [59.8662041, 56.8671308], [59.872001, 56.8713844], [59.8941886, 56.8687387], [59.8956703, 56.8679716], [59.8984149, 56.8682366], [59.8991512, 56.868756], [59.9021946, 56.8710902], [59.9040831, 56.87158], [59.9160384, 56.8736462], [59.9199667, 56.8723116], [59.9263987, 56.8707985], [59.9334131, 56.8696902], [59.9338445, 56.8694368], [59.935381, 56.868534], [59.9354689, 56.8684285], [59.940359, 56.8625569], [59.9408138, 56.8568205], [59.9435835, 56.8558965], [59.9452653, 56.8503834], [59.953796, 56.8497003], [59.9590781, 56.849765], [59.9634195, 56.8489599], [59.9667055, 56.8465622], [59.9704524, 56.8438123], [59.9944898, 56.8452783], [59.9955599, 56.8479105], [59.9959583, 56.8484115], [59.9971476, 56.8487395], [59.9980957, 56.8493023], [59.9999236, 56.848528], [59.9999348, 56.8474265], [60.0027916, 56.8472088], [60.0034515, 56.8476897], [60.0049414, 56.8477387], [60.0052644, 56.8495318], [60.0004867, 56.8498302], [60.000154, 56.8491133], [59.9981386, 56.849898], [59.9996315, 56.851465], [60.0007099, 56.8519169], [60.0033299, 56.8561867], [60.0031261, 56.8586006], [60.0025417, 56.8594554], [60.0009425, 56.8607801], [59.9985658, 56.8615044], [59.9973016, 56.8616917], [59.9969253, 56.8619095], [59.9968183, 56.8633511], [59.996049, 56.8641766], [60.0023589, 56.8647767], [60.0025584, 56.8642066], [60.004176, 56.863619], [60.0043451, 56.8631605], [60.0060353, 56.8621614], [60.0069235, 56.8622345], [60.0079369, 56.8621454], [60.0099638, 56.8618708], [60.0103092, 56.8615334], [60.0115153, 56.8610462], [60.013185, 56.8612674], [59.9998694, 56.8677114], [59.9998007, 56.8694574], [59.9953764, 56.8699241], [59.9955249, 56.8726556], [60.0033328, 56.8717106], [60.0048243, 56.872582], [60.0055905, 56.872933], [60.0071968, 56.8728197], [60.010852, 56.8727362], [60.0094855, 56.8687713], [60.0219025, 56.8662793], [60.021678, 56.8653539], [60.0228262, 56.8633934], [60.0332012, 56.8633707], [60.0336672, 56.8653893], [60.0377247, 56.866341], [60.0382292, 56.86686], [60.0406949, 56.8704111], [60.0395099, 56.8711869], [60.0310252, 56.8750165], [60.0318697, 56.876048], [60.0315023, 56.8765328], [60.0359046, 56.8911019], [60.0313067, 56.8900044], [60.0266643, 56.8887692], [60.0262101, 56.8892634], [60.0223856, 56.8886425], [60.0204649, 56.8889121], [60.0141638, 56.8892123], [60.0168633, 56.8930709], [60.0178633, 56.8965298], [60.0217646, 56.8955938], [60.0274401, 56.9007453], [60.025621, 56.9037033], [60.0181921, 56.9039184], [60.0168621, 56.9063268], [60.0147167, 56.9104779], [60.0255395, 56.9156699], [60.0303103, 56.9131767], [60.036647, 56.9128068], [60.0375423, 56.910862], [60.0490687, 56.9104647], [60.050963, 56.9158382], [60.0544032, 56.9235088], [60.0611389, 56.9297695], [60.063931, 56.9319245], [60.0675682, 56.9320949], [60.0686287, 56.9356636], [60.0471473, 56.9379454], [60.0457099, 56.9305722], [60.04196, 56.9287415], [60.0397469, 56.9296027], [60.0346956, 56.9264783], [60.0302368, 56.9264678], [60.028901, 56.9245707], [60.0272716, 56.923161], [60.023158, 56.9198387], [60.0152369, 56.9182658], [59.9984763, 56.9221325], [59.9940744, 56.9236213], [59.9874031, 56.9245435], [59.9836149, 56.9233814], [59.9779696, 56.9198423], [59.9759635, 56.9164085], [59.9741057, 56.9165017], [59.9726856, 56.9181075], [59.9694992, 56.9179611], [59.9663234, 56.9181251], [59.9723807, 56.9197742], [59.9705544, 56.9237432], [59.9684635, 56.9258482], [59.9685074, 56.9275559], [59.9700593, 56.9276049], [59.9702083, 56.9281591], [59.9707838, 56.9282028], [59.9708227, 56.9289713], [59.9714713, 56.9290853], [59.9722647, 56.9299864], [59.9739397, 56.9298866], [59.9758652, 56.9292667], [59.9771459, 56.9295386], [59.9775115, 56.9303334], [59.9788179, 56.9311934], [59.9793521, 56.9311379], [59.9803511, 56.9307893], [59.9829231, 56.9311268], [59.9830427, 56.9312349], [59.9840335, 56.9321308], [59.9843067, 56.9324769], [59.9836393, 56.9332762], [59.9811078, 56.9346574], [59.9808883, 56.9347772], [59.9815069, 56.9356742], [59.9817673, 56.936065], [59.9867159, 56.9384184], [59.9849579, 56.9397326], [59.9809046, 56.9381608], [59.9793582, 56.9371129], [59.978821, 56.93539], [59.9783489, 56.9340933], [59.978589, 56.9333723], [59.977648, 56.9330531], [59.976249, 56.9337608], [59.9744369, 56.9345343], [59.9741349, 56.9369609], [59.9752724, 56.9389245], [59.9747189, 56.9394662], [59.974491, 56.9400523], [59.9736641, 56.9450993], [59.9848365, 56.9526512], [59.9864673, 56.9576124], [59.9879264, 56.970293], [59.984343, 56.9753687], [59.9742616, 56.9716889], [59.9614047, 56.9722111], [59.9603747, 56.96524], [59.9584951, 56.9522366], [59.9479457, 56.9530168], [59.9470115, 56.9494946], [59.9443471, 56.9496185], [59.9417719, 56.9487168], [59.9417719, 56.9473816], [59.9116873, 56.9500765], [59.9087607, 56.9405781], [59.8928705, 56.9419699], [59.8902788, 56.9321128], [59.873844, 56.9336592], [59.8728242, 56.9265429], [59.8696911, 56.9046326], [59.869619, 56.904045], [59.8672641, 56.9028449], [59.8662263, 56.9019435], [59.8654645, 56.9012062], [59.8623964, 56.8984881], [59.8602335, 56.8988384], [59.8598347, 56.8987239], [59.8597658, 56.8987229], [59.8601224, 56.8964328], [59.8495823, 56.8892827]]], &quot;type&quot;: &quot;Polygon&quot;}, &quot;id&quot;: &quot;0&quot;, &quot;properties&quot;: {&quot;addresstype&quot;: &quot;city&quot;, &quot;bbox_east&quot;: 60.0686287, &quot;bbox_north&quot;: 56.9753687, &quot;bbox_south&quot;: 56.8438123, &quot;bbox_west&quot;: 59.8495823, &quot;class&quot;: &quot;place&quot;, &quot;display_name&quot;: &quot;Pervouralsk, \\u0433\\u043e\\u0440\\u043e\\u0434\\u0441\\u043a\\u043e\\u0439 \\u043e\\u043a\\u0440\\u0443\\u0433 \\u041f\\u0435\\u0440\\u0432\\u043e\\u0443\\u0440\\u0430\\u043b\\u044c\\u0441\\u043a, Sverdlovsk Oblast, Ural Federal District, Russia&quot;, &quot;importance&quot;: 0.508392764839225, &quot;lat&quot;: 56.9051246, &quot;lon&quot;: 59.9431941, &quot;name&quot;: &quot;Pervouralsk&quot;, &quot;osm_id&quot;: 31001807, &quot;osm_type&quot;: &quot;way&quot;, &quot;place_id&quot;: 209607579, &quot;place_rank&quot;: 16, &quot;type&quot;: &quot;city&quot;}, &quot;type&quot;: &quot;Feature&quot;}], &quot;type&quot;: &quot;FeatureCollection&quot;});\n",
              "\n",
              "        \n",
              "    \n",
              "            map_7347f90d1216c31783b7b7f4d16563f1.fitBounds(\n",
              "                [[56.8438123, 59.8495823], [56.9753687, 60.0686287]],\n",
              "                {}\n",
              "            );\n",
              "        \n",
              "&lt;/script&gt;\n",
              "&lt;/html&gt;\" style=\"position:absolute;width:100%;height:100%;left:0;top:0;border:none !important;\" allowfullscreen webkitallowfullscreen mozallowfullscreen></iframe></div></div>"
            ]
          },
          "metadata": {}
        },
        {
          "output_type": "display_data",
          "data": {
            "text/plain": [
              "<folium.folium.Map at 0x7f796e9d2c80>"
            ],
            "text/html": [
              "<div style=\"width:100%;\"><div style=\"position:relative;width:100%;height:0;padding-bottom:60%;\"><span style=\"color:#565656\">Make this Notebook Trusted to load map: File -> Trust Notebook</span><iframe srcdoc=\"&lt;!DOCTYPE html&gt;\n",
              "&lt;html&gt;\n",
              "&lt;head&gt;\n",
              "    \n",
              "    &lt;meta http-equiv=&quot;content-type&quot; content=&quot;text/html; charset=UTF-8&quot; /&gt;\n",
              "    \n",
              "        &lt;script&gt;\n",
              "            L_NO_TOUCH = false;\n",
              "            L_DISABLE_3D = false;\n",
              "        &lt;/script&gt;\n",
              "    \n",
              "    &lt;style&gt;html, body {width: 100%;height: 100%;margin: 0;padding: 0;}&lt;/style&gt;\n",
              "    &lt;style&gt;#map {position:absolute;top:0;bottom:0;right:0;left:0;}&lt;/style&gt;\n",
              "    &lt;script src=&quot;https://cdn.jsdelivr.net/npm/leaflet@1.9.3/dist/leaflet.js&quot;&gt;&lt;/script&gt;\n",
              "    &lt;script src=&quot;https://code.jquery.com/jquery-1.12.4.min.js&quot;&gt;&lt;/script&gt;\n",
              "    &lt;script src=&quot;https://cdn.jsdelivr.net/npm/bootstrap@5.2.2/dist/js/bootstrap.bundle.min.js&quot;&gt;&lt;/script&gt;\n",
              "    &lt;script src=&quot;https://cdnjs.cloudflare.com/ajax/libs/Leaflet.awesome-markers/2.0.2/leaflet.awesome-markers.js&quot;&gt;&lt;/script&gt;\n",
              "    &lt;link rel=&quot;stylesheet&quot; href=&quot;https://cdn.jsdelivr.net/npm/leaflet@1.9.3/dist/leaflet.css&quot;/&gt;\n",
              "    &lt;link rel=&quot;stylesheet&quot; href=&quot;https://cdn.jsdelivr.net/npm/bootstrap@5.2.2/dist/css/bootstrap.min.css&quot;/&gt;\n",
              "    &lt;link rel=&quot;stylesheet&quot; href=&quot;https://netdna.bootstrapcdn.com/bootstrap/3.0.0/css/bootstrap.min.css&quot;/&gt;\n",
              "    &lt;link rel=&quot;stylesheet&quot; href=&quot;https://cdn.jsdelivr.net/npm/@fortawesome/fontawesome-free@6.2.0/css/all.min.css&quot;/&gt;\n",
              "    &lt;link rel=&quot;stylesheet&quot; href=&quot;https://cdnjs.cloudflare.com/ajax/libs/Leaflet.awesome-markers/2.0.2/leaflet.awesome-markers.css&quot;/&gt;\n",
              "    &lt;link rel=&quot;stylesheet&quot; href=&quot;https://cdn.jsdelivr.net/gh/python-visualization/folium/folium/templates/leaflet.awesome.rotate.min.css&quot;/&gt;\n",
              "    \n",
              "            &lt;meta name=&quot;viewport&quot; content=&quot;width=device-width,\n",
              "                initial-scale=1.0, maximum-scale=1.0, user-scalable=no&quot; /&gt;\n",
              "            &lt;style&gt;\n",
              "                #map_e23e62dbc4585e614a81d52186166ea0 {\n",
              "                    position: relative;\n",
              "                    width: 100.0%;\n",
              "                    height: 100.0%;\n",
              "                    left: 0.0%;\n",
              "                    top: 0.0%;\n",
              "                }\n",
              "                .leaflet-container { font-size: 1rem; }\n",
              "            &lt;/style&gt;\n",
              "        \n",
              "&lt;/head&gt;\n",
              "&lt;body&gt;\n",
              "    \n",
              "    \n",
              "            &lt;div class=&quot;folium-map&quot; id=&quot;map_e23e62dbc4585e614a81d52186166ea0&quot; &gt;&lt;/div&gt;\n",
              "        \n",
              "&lt;/body&gt;\n",
              "&lt;script&gt;\n",
              "    \n",
              "    \n",
              "            var map_e23e62dbc4585e614a81d52186166ea0 = L.map(\n",
              "                &quot;map_e23e62dbc4585e614a81d52186166ea0&quot;,\n",
              "                {\n",
              "                    center: [57.93270292385033, 59.97427886538834],\n",
              "                    crs: L.CRS.EPSG3857,\n",
              "                    zoom: 10,\n",
              "                    zoomControl: true,\n",
              "                    preferCanvas: false,\n",
              "                }\n",
              "            );\n",
              "\n",
              "            \n",
              "\n",
              "        \n",
              "    \n",
              "            var tile_layer_4eb25f7eca03799b56dceda1d80082d0 = L.tileLayer(\n",
              "                &quot;https://cartodb-basemaps-{s}.global.ssl.fastly.net/light_all/{z}/{x}/{y}.png&quot;,\n",
              "                {&quot;attribution&quot;: &quot;\\u0026copy; \\u003ca target=\\&quot;_blank\\&quot; href=\\&quot;http://www.openstreetmap.org/copyright\\&quot;\\u003eOpenStreetMap\\u003c/a\\u003e contributors \\u0026copy; \\u003ca target=\\&quot;_blank\\&quot; href=\\&quot;http://cartodb.com/attributions\\&quot;\\u003eCartoDB\\u003c/a\\u003e, CartoDB \\u003ca target=\\&quot;_blank\\&quot; href =\\&quot;http://cartodb.com/attributions\\&quot;\\u003eattributions\\u003c/a\\u003e&quot;, &quot;detectRetina&quot;: false, &quot;maxNativeZoom&quot;: 18, &quot;maxZoom&quot;: 18, &quot;minZoom&quot;: 0, &quot;noWrap&quot;: false, &quot;opacity&quot;: 1, &quot;subdomains&quot;: &quot;abc&quot;, &quot;tms&quot;: false}\n",
              "            ).addTo(map_e23e62dbc4585e614a81d52186166ea0);\n",
              "        \n",
              "    \n",
              "\n",
              "        function geo_json_7b568825675096d3c74cc7297b58ccd4_onEachFeature(feature, layer) {\n",
              "            layer.on({\n",
              "            });\n",
              "        };\n",
              "        var geo_json_7b568825675096d3c74cc7297b58ccd4 = L.geoJson(null, {\n",
              "                onEachFeature: geo_json_7b568825675096d3c74cc7297b58ccd4_onEachFeature,\n",
              "            \n",
              "        });\n",
              "\n",
              "        function geo_json_7b568825675096d3c74cc7297b58ccd4_add (data) {\n",
              "            geo_json_7b568825675096d3c74cc7297b58ccd4\n",
              "                .addData(data)\n",
              "                .addTo(map_e23e62dbc4585e614a81d52186166ea0);\n",
              "        }\n",
              "            geo_json_7b568825675096d3c74cc7297b58ccd4_add({&quot;bbox&quot;: [59.8033675, 57.827699, 60.1595288, 58.0319566], &quot;features&quot;: [{&quot;bbox&quot;: [59.8033675, 57.827699, 60.1595288, 58.0319566], &quot;geometry&quot;: {&quot;coordinates&quot;: [[[59.8033675, 57.9074052], [59.8428674, 57.8822589], [59.8707861, 57.8729254], [59.8944503, 57.8650124], [59.9133883, 57.8619706], [59.9196149, 57.8601823], [59.9194092, 57.8582686], [59.9194692, 57.8465906], [59.924831, 57.846527], [59.924847, 57.845676], [59.926689, 57.845635], [59.927582, 57.846287], [59.931015, 57.846249], [59.933521, 57.844047], [59.9386232, 57.8442547], [59.93925, 57.8445748], [59.9396559, 57.8462548], [59.9411466, 57.8478532], [59.943501, 57.848667], [59.943577, 57.849087], [59.942947, 57.850109], [59.942627, 57.851345], [59.942059, 57.85516], [59.942188, 57.855717], [59.942829, 57.856396], [59.943718, 57.856976], [59.945202, 57.857685], [59.946323, 57.858059], [59.947301, 57.8579385], [59.9495628, 57.8574337], [59.949698, 57.8574035], [59.9506712, 57.8572337], [59.953547, 57.8567319], [59.956236, 57.8563835], [59.958158, 57.855641], [59.96072, 57.8548806], [59.9621011, 57.8541144], [59.9652346, 57.8528494], [59.9674363, 57.8523481], [59.9703956, 57.8525552], [59.9720955, 57.8532907], [59.9736622, 57.853901], [59.9758434, 57.8538683], [59.9811375, 57.8522173], [59.9849058, 57.8519013], [59.9904355, 57.8528167], [59.9913673, 57.853318], [59.9922582, 57.8540971], [59.9944086, 57.8542606], [59.9978595, 57.8557643], [60.0045565, 57.8549089], [60.0082122, 57.8551868], [60.0094001, 57.8548272], [60.0090724, 57.8544458], [60.0079869, 57.8518686], [60.0089188, 57.8504955], [60.0088573, 57.8496999], [60.0079153, 57.8480597], [60.0074472, 57.8446564], [60.0070644, 57.8442928], [60.0067625, 57.8439599], [60.0066243, 57.84346], [60.0079443, 57.8422891], [60.0099243, 57.8408946], [60.0118443, 57.8383928], [60.0111713, 57.8279317], [60.0213797, 57.8277499], [60.0308817, 57.827699], [60.0332005, 57.8285206], [60.0405981, 57.8289995], [60.0445666, 57.8297564], [60.060841, 57.8305288], [60.0619127, 57.829898], [60.0735215, 57.8304157], [60.0750728, 57.8321435], [60.0909844, 57.8783713], [60.091019, 57.8940872], [60.0896437, 57.8986617], [60.095622, 57.9012203], [60.1004583, 57.9020802], [60.1036766, 57.901379], [60.1124193, 57.9007884], [60.1156472, 57.9008075], [60.1189523, 57.9009167], [60.1226303, 57.9000552], [60.1228562, 57.9012973], [60.1281721, 57.901532], [60.1565094, 57.9029469], [60.1552295, 57.9084241], [60.15466, 57.9129524], [60.1530714, 57.914917], [60.1533323, 57.9158509], [60.1518641, 57.9176429], [60.1565028, 57.9235245], [60.1595288, 57.9258337], [60.1581182, 57.9299795], [60.1498434, 57.9296745], [60.1455585, 57.9315135], [60.1389999, 57.9313532], [60.1357592, 57.9381681], [60.1367891, 57.9387494], [60.1335775, 57.9505391], [60.1293258, 57.9519687], [60.1204777, 57.9534989], [60.1100448, 57.9533239], [60.1037057, 57.9528979], [60.0989529, 57.9904361], [60.0282142, 58.0006174], [60.0398185, 58.0290851], [60.0446357, 58.0319566], [59.9664539, 58.0273223], [59.9615015, 58.0218898], [59.9491205, 58.017768], [59.9356782, 58.0217024], [59.9296646, 58.0224518], [59.924797, 58.0212437], [59.9066712, 58.0164565], [59.8900453, 58.0275096], [59.8712969, 58.0282588], [59.8681132, 58.0211404], [59.8748343, 58.017768], [59.8737651, 58.0052132], [59.8664252, 57.9993289], [59.8800343, 57.9987314], [59.8745724, 57.9916184], [59.8755924, 57.9915442], [59.8758124, 57.9912473], [59.8762724, 57.9903992], [59.8762124, 57.9900282], [59.8755924, 57.9896147], [59.8717023, 57.9877706], [59.8713023, 57.9866998], [59.8713223, 57.9860848], [59.8708823, 57.9857455], [59.8711423, 57.9850882], [59.8702223, 57.9848019], [59.8696023, 57.9842929], [59.8698423, 57.983784], [59.8694423, 57.9836355], [59.8693623, 57.9839642], [59.8690423, 57.9840915], [59.8683423, 57.9841869], [59.8682023, 57.9843778], [59.8685823, 57.9846746], [59.8686623, 57.985226], [59.8679623, 57.9855123], [59.8670423, 57.985332], [59.8664423, 57.9847489], [59.8637134, 57.9855844], [59.8624023, 57.9865937], [59.8604423, 57.9866361], [59.8591623, 57.9864983], [59.8586333, 57.986412], [59.8574622, 57.9862014], [59.8557822, 57.9862969], [59.8536022, 57.9865089], [59.8534622, 57.986721], [59.8542622, 57.9869436], [59.8544022, 57.9872829], [59.8538622, 57.9876222], [59.8426013, 57.9899956], [59.831102, 57.9911949], [59.8033675, 57.9074052]]], &quot;type&quot;: &quot;Polygon&quot;}, &quot;id&quot;: &quot;0&quot;, &quot;properties&quot;: {&quot;addresstype&quot;: &quot;city&quot;, &quot;bbox_east&quot;: 60.1595288, &quot;bbox_north&quot;: 58.0319566, &quot;bbox_south&quot;: 57.827699, &quot;bbox_west&quot;: 59.8033675, &quot;class&quot;: &quot;place&quot;, &quot;display_name&quot;: &quot;Nizhny Tagil, \\u0433\\u043e\\u0440\\u043e\\u0434\\u0441\\u043a\\u043e\\u0439 \\u043e\\u043a\\u0440\\u0443\\u0433 \\u041d\\u0438\\u0436\\u043d\\u0438\\u0439 \\u0422\\u0430\\u0433\\u0438\\u043b, Sverdlovsk Oblast, Ural Federal District, Russia&quot;, &quot;importance&quot;: 0.5434403484509351, &quot;lat&quot;: 57.905149, &quot;lon&quot;: 59.9508466, &quot;name&quot;: &quot;Nizhny Tagil&quot;, &quot;osm_id&quot;: 1555410, &quot;osm_type&quot;: &quot;relation&quot;, &quot;place_id&quot;: 209364923, &quot;place_rank&quot;: 16, &quot;type&quot;: &quot;city&quot;}, &quot;type&quot;: &quot;Feature&quot;}], &quot;type&quot;: &quot;FeatureCollection&quot;});\n",
              "\n",
              "        \n",
              "    \n",
              "            map_e23e62dbc4585e614a81d52186166ea0.fitBounds(\n",
              "                [[57.827699, 59.8033675], [58.0319566, 60.1595288]],\n",
              "                {}\n",
              "            );\n",
              "        \n",
              "&lt;/script&gt;\n",
              "&lt;/html&gt;\" style=\"position:absolute;width:100%;height:100%;left:0;top:0;border:none !important;\" allowfullscreen webkitallowfullscreen mozallowfullscreen></iframe></div></div>"
            ]
          },
          "metadata": {}
        }
      ]
    }
  ]
}